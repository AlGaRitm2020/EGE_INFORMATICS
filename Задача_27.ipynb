{
  "nbformat": 4,
  "nbformat_minor": 0,
  "metadata": {
    "colab": {
      "name": "Untitled6.ipynb",
      "provenance": [],
      "collapsed_sections": [],
      "authorship_tag": "ABX9TyP4LOcwGuAfiE/XkUZt+5RW",
      "include_colab_link": true
    },
    "kernelspec": {
      "name": "python3",
      "display_name": "Python 3"
    },
    "language_info": {
      "name": "python"
    }
  },
  "cells": [
    {
      "cell_type": "markdown",
      "metadata": {
        "id": "view-in-github",
        "colab_type": "text"
      },
      "source": [
        "<a href=\"https://colab.research.google.com/github/AlGaRitm2020/EGE_INFORMATICS/blob/master/%D0%97%D0%B0%D0%B4%D0%B0%D1%87%D0%B0_27.ipynb\" target=\"_parent\"><img src=\"https://colab.research.google.com/assets/colab-badge.svg\" alt=\"Open In Colab\"/></a>"
      ]
    },
    {
      "cell_type": "markdown",
      "source": [
        "# Задача 27. "
      ],
      "metadata": {
        "id": "ARqw75tBeMtN"
      }
    },
    {
      "cell_type": "markdown",
      "source": [
        "#### Скачивание файлов из папки src GitHub репозитория"
      ],
      "metadata": {
        "id": "dAI3Xv8heVsy"
      }
    },
    {
      "cell_type": "code",
      "execution_count": 30,
      "metadata": {
        "id": "MhXMDwN0Z0Xb"
      },
      "outputs": [],
      "source": [
        "import requests\n",
        "BASE_URL = \"https://raw.githubusercontent.com/AlGaRitm2020/EGE_INFORMATICS/master/src/\"\n",
        "\n",
        "# при подключении новых файлов просто добавьте имя файла из папки src в список ниже\n",
        "names = [\"27-1A.txt\", \"27-1B.txt\"]\n",
        "\n",
        "for name in names:\n",
        "  url = BASE_URL + name\n",
        "  \n",
        "  data = requests.get(url).content\n",
        "  file = open(name, mode='wb')\n",
        "\n",
        "  file.write(data)"
      ]
    },
    {
      "cell_type": "markdown",
      "source": [
        "### Тип 1. Выбрать одно из пары и посчитать их сумму\n",
        "\n",
        "Имеется набор данных, состоящий из пар положительных целых чисел. Необходимо выбрать из каждой пары ровно одно число так, чтобы сумма всех выбранных чисел не делилась на 3 и при этом была максимально возможной. Гарантируется, что искомую сумму получить можно. Программа должна напечатать одно число — максимально возможную сумму, соответствующую условиям задачи.\n",
        "\n",
        "Входные данные.\n",
        "\n",
        "Файл A\n",
        "\n",
        "Файл B\n",
        "\n",
        "Даны два входных файла (файл A и файл B), каждый из которых содержит в первой строке количество пар N (1 ≤ N ≤ 100000). Каждая из следующих N строк содержит два натуральных числа, не превышающих 10 000.\n",
        "\n",
        "Пример организации исходных данных во входном файле:\n",
        "\n",
        "6\n",
        "\n",
        "1 3\n",
        "\n",
        "5 12\n",
        "\n",
        "6 9\n",
        "\n",
        "5 4\n",
        "\n",
        "3 3\n",
        "\n",
        "1 1\n",
        "\n",
        "Для указанных входных данных значением искомой суммы должно быть число 32.\n"
      ],
      "metadata": {
        "id": "SuwyPGaemoLM"
      }
    },
    {
      "cell_type": "code",
      "source": [
        "f = open('27-1A.txt')\n",
        "#f = open('27-1B.txt') \n",
        "\n",
        "def get_line():\n",
        "  \"\"\"функция возвращает два числа в следующей строке \"\"\"\n",
        "  return [int(i) for i in f.readline().split()]\n",
        "\n",
        "n = get_line()[0]\n",
        "s = get_line()\n",
        "\n",
        "mn = float('-inf')\n",
        "for _ in range(n -1):\n",
        "  pair = get_line()\n",
        "  temp = []\n",
        "  for i in s:\n",
        "    for j in pair:\n",
        "      temp.append(i + j)\n",
        "\n",
        "  # в списке fake_s проводится сортировка по остатку от деления на 3 \n",
        "  # и остается по одному максимальному элементу с определенным остатком\n",
        "\n",
        "  fake_s = [mn] * 3\n",
        "\n",
        "  for x in temp:\n",
        "    fake_s[x % 3] = max(fake_s[x % 3], x)\n",
        "  s = [x for x in fake_s if x != mn]\n",
        "\n",
        "print(max(s[1], s[2]))"
      ],
      "metadata": {
        "colab": {
          "base_uri": "https://localhost:8080/"
        },
        "id": "4eSw1KkIm4JT",
        "outputId": "8661b20c-5ee1-4126-badd-4cd81e4f2441"
      },
      "execution_count": 40,
      "outputs": [
        {
          "output_type": "stream",
          "name": "stdout",
          "text": [
            "127127\n"
          ]
        }
      ]
    },
    {
      "cell_type": "code",
      "source": [
        ""
      ],
      "metadata": {
        "id": "nsTIlgkasOaz"
      },
      "execution_count": null,
      "outputs": []
    }
  ]
}