{
  "nbformat": 4,
  "nbformat_minor": 0,
  "metadata": {
    "colab": {
      "name": "Задача_23.ipynb",
      "provenance": [],
      "collapsed_sections": [],
      "authorship_tag": "ABX9TyMSpiLWK4E1TxDlfiERkCu5",
      "include_colab_link": true
    },
    "kernelspec": {
      "name": "python3",
      "display_name": "Python 3"
    },
    "language_info": {
      "name": "python"
    }
  },
  "cells": [
    {
      "cell_type": "markdown",
      "metadata": {
        "id": "view-in-github",
        "colab_type": "text"
      },
      "source": [
        "<a href=\"https://colab.research.google.com/github/AlGaRitm2020/EGE_INFORMATICS/blob/master/%D0%97%D0%B0%D0%B4%D0%B0%D1%87%D0%B0_23.ipynb\" target=\"_parent\"><img src=\"https://colab.research.google.com/assets/colab-badge.svg\" alt=\"Open In Colab\"/></a>"
      ]
    },
    {
      "cell_type": "markdown",
      "metadata": {
        "id": "UvYFaAWQmHm7"
      },
      "source": [
        "# Задача 23. Множественная рекурсия на Python\n"
      ]
    },
    {
      "cell_type": "markdown",
      "metadata": {
        "id": "C8y38QC4majg"
      },
      "source": [
        "**1. Наиболее частый и простой вариант:**\n"
      ]
    },
    {
      "cell_type": "markdown",
      "metadata": {
        "id": "JsDZVbZSmfwS"
      },
      "source": [
        "(№ 2504) (Т.В. Белова) Исполнитель Калькулятор преобразует число на экране. У исполнителя есть три команды, которым присвоены номера:\n",
        "1. Прибавить 1\n",
        "2. Прибавить 3\n",
        "3. Возвести в квадрат\n",
        "\n",
        "Программа для исполнителя Калькулятор – это последовательность команд. Сколько существует программ, для которых при исходном числе 2 результатом является число 19?\n"
      ]
    },
    {
      "cell_type": "markdown",
      "metadata": {
        "id": "2HS_rykXm9Hc"
      },
      "source": [
        "**Решение:**\n"
      ]
    },
    {
      "cell_type": "code",
      "metadata": {
        "colab": {
          "base_uri": "https://localhost:8080/"
        },
        "id": "xrocErnDmAfh",
        "outputId": "5ddab940-4fa8-49fc-ce73-ca610444e44c"
      },
      "source": [
        "def f(a, b):\n",
        "\tif a == b:\n",
        "\t\treturn 1\n",
        "\tif a > b:\n",
        "\t\treturn 0\n",
        "\t\n",
        "\telse:\n",
        "\n",
        "\t\treturn f(a + 1, b) + f(a + 3, b) + f(a ** 2, b)\n",
        "\n",
        "\n",
        "print(f(2, 19))"
      ],
      "execution_count": null,
      "outputs": [
        {
          "output_type": "stream",
          "name": "stdout",
          "text": [
            "627\n"
          ]
        }
      ]
    },
    {
      "cell_type": "markdown",
      "metadata": {
        "id": "oXagViBksH_M"
      },
      "source": [
        "**2. Траектория содержит определенное число:**\n"
      ]
    },
    {
      "cell_type": "markdown",
      "metadata": {
        "id": "3TX3N9zlscyw"
      },
      "source": [
        "(№ 4183) (Е. Джобс) Исполнитель Калькулятор преобразует число, записанное на экране. У исполнителя есть две команды, которым присвоены номера:\n",
        "1. Вычти 8\n",
        "2. Раздели нацело на 2\n",
        "\n",
        "Первая команда уменьшает число на 8, вторая – вдвое. Программа для исполнителя – это последовательность команд. Сколько существует таких программ, которые исходное число 102 преобразуют в число 5 и при этом траектория вычислений программы содержит число 43?"
      ]
    },
    {
      "cell_type": "markdown",
      "metadata": {
        "id": "Rod7RRnhsvKt"
      },
      "source": [
        "**Решение:**\n"
      ]
    },
    {
      "cell_type": "markdown",
      "metadata": {
        "id": "4uQsSUX-vIMp"
      },
      "source": [
        "Чтобы пройти через определенное число мы просто умножаем результат функции от начала до обязательной точки и от обязательной точки до конца. "
      ]
    },
    {
      "cell_type": "code",
      "metadata": {
        "colab": {
          "base_uri": "https://localhost:8080/"
        },
        "id": "0fE5sgfAs2ib",
        "outputId": "27d57ce7-dc9e-4679-fc9b-9e2b6358f1e1"
      },
      "source": [
        "def f(a, b):\n",
        "\tif a == b:\n",
        "\t\treturn 1\n",
        "\telif b > a:\n",
        "\t\treturn 0\n",
        "\telse:\n",
        "\n",
        "\t\treturn f(a - 8, b) + f(a // 2, b)\n",
        "\n",
        "\n",
        "print(f(102, 43) * f(43, 5))"
      ],
      "execution_count": 9,
      "outputs": [
        {
          "output_type": "stream",
          "name": "stdout",
          "text": [
            "8\n"
          ]
        }
      ]
    },
    {
      "cell_type": "markdown",
      "metadata": {
        "id": "a_rDQSSEy_qr"
      },
      "source": [
        "**3. Определенное количество команд:**\n"
      ]
    },
    {
      "cell_type": "markdown",
      "metadata": {
        "id": "Cg-EPr6ry_q8"
      },
      "source": [
        "(№ 4040) Исполнитель Калькулятор преобразует число, записанное на экране. У исполнителя есть две команды, которым присвоены номера:\n",
        "1. Прибавь 1\n",
        "2. Умножь на 2 и вычти 3\n",
        "\n",
        "Сколько различных результатов можно получить из исходного числа 3 после выполнения программы, содержащей ровно 12 команд?"
      ]
    },
    {
      "cell_type": "markdown",
      "metadata": {
        "id": "_LHMOV4py_q8"
      },
      "source": [
        "**Решение:**\n"
      ]
    },
    {
      "cell_type": "markdown",
      "metadata": {
        "id": "xLU6Z2Hyy_q9"
      },
      "source": [
        "В функцию добавляем счетчик вхождений (переменная cnt) и защитываем только те проходы, где значение счетчика равно 12 (по условию). Чтобы посчитать количество именно различных результатов, мы создаем множество (переменная set), которое пополняем когда количество команд стало равно заданному. За счет того, что множество не повторяет элементы, то его длина - это и есть количество различных результатов.\n",
        "\n",
        "В строке return, мы складываем множества с помощью операции |"
      ]
    },
    {
      "cell_type": "code",
      "metadata": {
        "colab": {
          "base_uri": "https://localhost:8080/"
        },
        "id": "RyAa9gHfy_q-",
        "outputId": "2bdacf13-e487-4c72-de70-9039d53dd30b"
      },
      "source": [
        "def f(a, cnt, set):\n",
        "\tif cnt == 12:\n",
        "\t\tset.add(a)\n",
        "\t\treturn set\n",
        "\telse:\n",
        "\n",
        "\t\treturn f(a + 1, cnt + 1, set) | f(a * 2 - 3, cnt + 1, set)\n",
        "\n",
        "\n",
        "print(len(f(3, 0, set())))"
      ],
      "execution_count": 8,
      "outputs": [
        {
          "output_type": "stream",
          "name": "stdout",
          "text": [
            "377\n"
          ]
        }
      ]
    },
    {
      "cell_type": "markdown",
      "metadata": {
        "id": "2d9-JjnyEFuq"
      },
      "source": [
        "**4. Нахождение следующего простого числа:**\n"
      ]
    },
    {
      "cell_type": "markdown",
      "metadata": {
        "id": "W37SmZCMEFuy"
      },
      "source": [
        "(№ 3608) (Е. Джобс) Исполнитель Вычислитель преобразует число на экране. У исполнителя есть две команды, которым присвоены номера:\n",
        "1. Прибавить 2\n",
        "2. Сделать простое\n",
        "\n",
        "Первая команда увеличивает число на экране на 2, вторая – получает ближайшее бóльшее простое число. Сколько существует программ, для которых при исходном числе 2 результатом является число 45 и при этом траектория вычислений содержит число 14 и не содержит числа 33?"
      ]
    },
    {
      "cell_type": "markdown",
      "metadata": {
        "id": "zGsZDjDsEFuz"
      },
      "source": [
        "**Решение:**\n"
      ]
    },
    {
      "cell_type": "markdown",
      "metadata": {
        "id": "f1auW0QeEFu0"
      },
      "source": [
        "Нам нужно написать еще две функции, первая будет определять является ли число простым, а вторая искать ближайшее простое число большее n. Также добавляется условие непрохождения через число 33, поэтому когда a станет равным 33, мы уничтожим текущую ветку."
      ]
    },
    {
      "cell_type": "code",
      "metadata": {
        "colab": {
          "base_uri": "https://localhost:8080/"
        },
        "id": "DaEiDZeQEFu0",
        "outputId": "dfea153b-f5cd-4086-af44-236878db0351"
      },
      "source": [
        "def is_prime(n):\n",
        "\tfor i in range(2, n // 2 + 1):\n",
        "\t\tif n % i == 0:\n",
        "\t\t\treturn False\n",
        "\treturn True\n",
        "\n",
        "def next_prime(n):\n",
        "\tfor i in range(n + 1, n + 1000):\n",
        "\t\tif is_prime(i):\n",
        "\t\t\treturn i\n",
        "\n",
        "def f(a, b):\n",
        "\tif a == b:\n",
        "\t\treturn 1\n",
        "\telif a > b:\n",
        "\t\treturn 0\n",
        "\telif a == 33:\n",
        "\t\treturn 0\n",
        "\telse:\n",
        "\n",
        "\t\treturn f(a + 2, b) + f(next_prime(a), b)\n",
        "\n",
        "\n",
        "print(f(2, 14) * f(14, 45))"
      ],
      "execution_count": 8,
      "outputs": [
        {
          "output_type": "stream",
          "name": "stdout",
          "text": [
            "881\n"
          ]
        }
      ]
    },
    {
      "cell_type": "code",
      "metadata": {
        "id": "Z0kH00EtEvj5"
      },
      "source": [
        ""
      ],
      "execution_count": null,
      "outputs": []
    }
  ]
}