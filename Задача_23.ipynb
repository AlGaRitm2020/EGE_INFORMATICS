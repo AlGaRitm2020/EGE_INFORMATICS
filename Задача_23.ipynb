{
  "nbformat": 4,
  "nbformat_minor": 0,
  "metadata": {
    "colab": {
      "name": "Задача_23.ipynb",
      "provenance": [],
      "collapsed_sections": [],
      "authorship_tag": "ABX9TyNZGCF6vK4lawcMTzEzD4FI",
      "include_colab_link": true
    },
    "kernelspec": {
      "name": "python3",
      "display_name": "Python 3"
    },
    "language_info": {
      "name": "python"
    }
  },
  "cells": [
    {
      "cell_type": "markdown",
      "metadata": {
        "id": "view-in-github",
        "colab_type": "text"
      },
      "source": [
        "<a href=\"https://colab.research.google.com/github/AlGaRitm2020/USE_Informatics/blob/master/%D0%97%D0%B0%D0%B4%D0%B0%D1%87%D0%B0_23.ipynb\" target=\"_parent\"><img src=\"https://colab.research.google.com/assets/colab-badge.svg\" alt=\"Open In Colab\"/></a>"
      ]
    },
    {
      "cell_type": "markdown",
      "metadata": {
        "id": "UvYFaAWQmHm7"
      },
      "source": [
        "# Задача 23. Множественная рекурсия на Python\n"
      ]
    },
    {
      "cell_type": "markdown",
      "metadata": {
        "id": "C8y38QC4majg"
      },
      "source": [
        "**Наиболее частый и простой вариант:**\n"
      ]
    },
    {
      "cell_type": "markdown",
      "metadata": {
        "id": "JsDZVbZSmfwS"
      },
      "source": [
        "(№ 2504) (Т.В. Белова) Исполнитель Калькулятор преобразует число на экране. У исполнителя есть три команды, которым присвоены номера:\n",
        "1. Прибавить 1\n",
        "2. Прибавить 3\n",
        "3. Возвести в квадрат\n",
        "Программа для исполнителя Калькулятор – это последовательность команд. Сколько существует программ, для которых при исходном числе 2 результатом является число 19?\n"
      ]
    },
    {
      "cell_type": "markdown",
      "metadata": {
        "id": "2HS_rykXm9Hc"
      },
      "source": [
        "**Решение:**\n"
      ]
    },
    {
      "cell_type": "code",
      "metadata": {
        "colab": {
          "base_uri": "https://localhost:8080/"
        },
        "id": "xrocErnDmAfh",
        "outputId": "5ddab940-4fa8-49fc-ce73-ca610444e44c"
      },
      "source": [
        "def f(a, b):\n",
        "\tif a == b:\n",
        "\t\treturn 1\n",
        "\tif a > b:\n",
        "\t\treturn 0\n",
        "\t\n",
        "\telse:\n",
        "\n",
        "\t\treturn f(a + 1, b) + f(a + 3, b) + f(a ** 2, b)\n",
        "\n",
        "\n",
        "print(f(2, 19))"
      ],
      "execution_count": null,
      "outputs": [
        {
          "output_type": "stream",
          "name": "stdout",
          "text": [
            "627\n"
          ]
        }
      ]
    }
  ]
}