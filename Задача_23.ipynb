{
  "nbformat": 4,
  "nbformat_minor": 0,
  "metadata": {
    "colab": {
      "name": "Задача_23.ipynb",
      "provenance": [],
      "collapsed_sections": [],
      "authorship_tag": "ABX9TyPcrcST+/o2viKOFA8O1Frj",
      "include_colab_link": true
    },
    "kernelspec": {
      "name": "python3",
      "display_name": "Python 3"
    },
    "language_info": {
      "name": "python"
    }
  },
  "cells": [
    {
      "cell_type": "markdown",
      "metadata": {
        "id": "view-in-github",
        "colab_type": "text"
      },
      "source": [
        "<a href=\"https://colab.research.google.com/github/AlGaRitm2020/EGE_INFORMATICS/blob/master/%D0%97%D0%B0%D0%B4%D0%B0%D1%87%D0%B0_23.ipynb\" target=\"_parent\"><img src=\"https://colab.research.google.com/assets/colab-badge.svg\" alt=\"Open In Colab\"/></a>"
      ]
    },
    {
      "cell_type": "markdown",
      "metadata": {
        "id": "UvYFaAWQmHm7"
      },
      "source": [
        "# Задача 23. Множественная рекурсия на Python\n"
      ]
    },
    {
      "cell_type": "markdown",
      "metadata": {
        "id": "C8y38QC4majg"
      },
      "source": [
        "**1. Наиболее частый и простой вариант:**\n"
      ]
    },
    {
      "cell_type": "markdown",
      "metadata": {
        "id": "JsDZVbZSmfwS"
      },
      "source": [
        "(№ 2504) (Т.В. Белова) Исполнитель Калькулятор преобразует число на экране. У исполнителя есть три команды, которым присвоены номера:\n",
        "1. Прибавить 1\n",
        "2. Прибавить 3\n",
        "3. Возвести в квадрат\n",
        "Программа для исполнителя Калькулятор – это последовательность команд. Сколько существует программ, для которых при исходном числе 2 результатом является число 19?\n"
      ]
    },
    {
      "cell_type": "markdown",
      "metadata": {
        "id": "2HS_rykXm9Hc"
      },
      "source": [
        "**Решение:**\n"
      ]
    },
    {
      "cell_type": "code",
      "metadata": {
        "colab": {
          "base_uri": "https://localhost:8080/"
        },
        "id": "xrocErnDmAfh",
        "outputId": "5ddab940-4fa8-49fc-ce73-ca610444e44c"
      },
      "source": [
        "def f(a, b):\n",
        "\tif a == b:\n",
        "\t\treturn 1\n",
        "\tif a > b:\n",
        "\t\treturn 0\n",
        "\t\n",
        "\telse:\n",
        "\n",
        "\t\treturn f(a + 1, b) + f(a + 3, b) + f(a ** 2, b)\n",
        "\n",
        "\n",
        "print(f(2, 19))"
      ],
      "execution_count": null,
      "outputs": [
        {
          "output_type": "stream",
          "name": "stdout",
          "text": [
            "627\n"
          ]
        }
      ]
    },
    {
      "cell_type": "markdown",
      "metadata": {
        "id": "oXagViBksH_M"
      },
      "source": [
        "**2. Траектория содержит определенное число:**\n"
      ]
    },
    {
      "cell_type": "markdown",
      "metadata": {
        "id": "3TX3N9zlscyw"
      },
      "source": [
        "(№ 4183) (Е. Джобс) Исполнитель Калькулятор преобразует число, записанное на экране. У исполнителя есть две команды, которым присвоены номера:\n",
        "1. Вычти 8\n",
        "2. Раздели нацело на 2\n",
        "Первая команда уменьшает число на 8, вторая – вдвое. Программа для исполнителя – это последовательность команд. Сколько существует таких программ, которые исходное число 102 преобразуют в число 5 и при этом траектория вычислений программы содержит число 43?"
      ]
    },
    {
      "cell_type": "markdown",
      "metadata": {
        "id": "Rod7RRnhsvKt"
      },
      "source": [
        "**Решение:**\n"
      ]
    },
    {
      "cell_type": "markdown",
      "metadata": {
        "id": "4uQsSUX-vIMp"
      },
      "source": [
        "Чтобы пройти через определенное число мы просто суммируем результат функции от начала до обязательной точки и от обязательной точки до конца"
      ]
    },
    {
      "cell_type": "code",
      "metadata": {
        "colab": {
          "base_uri": "https://localhost:8080/"
        },
        "id": "0fE5sgfAs2ib",
        "outputId": "7a58e392-63d4-4cc2-f71a-52128eb47041"
      },
      "source": [
        "def f(a, b):\n",
        "\tif a == b:\n",
        "\t\treturn 1\n",
        "\telif b > a:\n",
        "\t\treturn 0\n",
        "\telse:\n",
        "\n",
        "\t\treturn f(a - 8, b) + f(a // 2, b)\n",
        "\n",
        "\n",
        "print(f(102, 43) + f(43, 5))"
      ],
      "execution_count": 1,
      "outputs": [
        {
          "output_type": "stream",
          "name": "stdout",
          "text": [
            "6\n"
          ]
        }
      ]
    },
    {
      "cell_type": "code",
      "metadata": {
        "id": "ytBmdVuesaiK"
      },
      "source": [
        ""
      ],
      "execution_count": null,
      "outputs": []
    }
  ]
}